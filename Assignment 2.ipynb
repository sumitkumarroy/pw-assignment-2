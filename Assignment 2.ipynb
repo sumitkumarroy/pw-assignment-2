{
 "cells": [
  {
   "cell_type": "code",
   "execution_count": 1,
   "id": "eb8ba9b9",
   "metadata": {},
   "outputs": [
    {
     "data": {
      "text/plain": [
       "'\\nThis is a multi-line comment in Python.\\nIt spans multiple lines and is enclosed between triple quotes.\\n'"
      ]
     },
     "execution_count": 1,
     "metadata": {},
     "output_type": "execute_result"
    }
   ],
   "source": [
    "#1. there are two types of comments in python i)single line comments. Denoted by '#'  and other is multiline comment denoted by  \" '''  ''' \"\n",
    "\n",
    "# This is a single-line comment in Python\n",
    "\n",
    "x = 10  # This comment explains the purpose of this line assigning the value 10 to variable x\n",
    "\n",
    "\n",
    "'''\n",
    "This is a multi-line comment in Python.\n",
    "It spans multiple lines and is enclosed between triple quotes.\n",
    "'''"
   ]
  },
  {
   "cell_type": "code",
   "execution_count": 2,
   "id": "68d8e8c5",
   "metadata": {},
   "outputs": [],
   "source": [
    "#2. in python varialbes are used to store and manipulate data. they act as symbolic refrence to the object which is st Eg., a=10 a has value 10.\n",
    "\n",
    "# Assigning values to variables\n",
    "name = \"Sumit\"  # Here, 'name' is a variable storing a string value \"Alice\"\n",
    "age = 25        # 'age' is a variable storing an integer value 25\n",
    "is_studying = True  # 'is_student' is a variable storing a boolean value True\n",
    "Weight = 63.14     # 'Weight' is a variable storing a float value 63.14\n"
   ]
  },
  {
   "cell_type": "code",
   "execution_count": 3,
   "id": "6bfbf568",
   "metadata": {},
   "outputs": [
    {
     "name": "stdout",
     "output_type": "stream",
     "text": [
      "<class 'str'>\n",
      "<class 'int'>\n",
      "<class 'float'>\n",
      "<class 'int'>\n"
     ]
    }
   ],
   "source": [
    "#3. we convert one data to other using type conversion\n",
    "#int(): Converts a value to an integer.\n",
    "str=\"34\"\n",
    "print(type( str))\n",
    "str_number=int(str)\n",
    "print(type(str_number))\n",
    "\n",
    "#float(): Converts a value to a floating-point number.\n",
    "flot_number=67.98\n",
    "print(type(flot_number))\n",
    "flot_int_number=int(flot_number)\n",
    "print(type(flot_int_number))\n"
   ]
  },
  {
   "cell_type": "code",
   "execution_count": 4,
   "id": "1bf01a3c",
   "metadata": {},
   "outputs": [
    {
     "data": {
      "text/plain": [
       "'\\n4. executing python code from command prompt\\n    1. open any text editor say notepad.\\n    2. weite your phthon code and save file with extension py say \"test.py\".\\n    3. open command prompt and navigate to your saved file and press Enter.\\n    Note[python is needed to be installed and added to your system,s path environment variable for python command to work.]\\n    \\n'"
      ]
     },
     "execution_count": 4,
     "metadata": {},
     "output_type": "execute_result"
    }
   ],
   "source": [
    "'''\n",
    "4. executing python code from command prompt\n",
    "    1. open any text editor say notepad.\n",
    "    2. weite your phthon code and save file with extension py say \"test.py\".\n",
    "    3. open command prompt and navigate to your saved file and press Enter.\n",
    "    Note[python is needed to be installed and added to your system,s path environment variable for python command to work.]\n",
    "    \n",
    "'''"
   ]
  },
  {
   "cell_type": "code",
   "execution_count": 5,
   "id": "1716bec5",
   "metadata": {},
   "outputs": [
    {
     "name": "stdout",
     "output_type": "stream",
     "text": [
      "[2]\n"
     ]
    }
   ],
   "source": [
    "my_list = [1, 2, 3, 4, 5]\n",
    "sub_list = my_list[1:2]\n",
    "print(sub_list)"
   ]
  },
  {
   "cell_type": "code",
   "execution_count": 6,
   "id": "72de4099",
   "metadata": {},
   "outputs": [
    {
     "name": "stdout",
     "output_type": "stream",
     "text": [
      "complex_num: (3+4j)\n",
      "directly_complex_number: (5+6j)\n"
     ]
    }
   ],
   "source": [
    "#6. display of complex number in python\n",
    "#we can desplay complex number of mathematics in python using complex function complex() or by directly specifying real and imaginary number and seprating them by '+' sign and putting j with imaginary number.\n",
    "\n",
    "complex_num = complex(3,4)\n",
    "direct_complex_number = 5+6j\n",
    "print(f\"complex_num: {complex_num}\")\n",
    "print(f\"directly_complex_number: {direct_complex_number}\")"
   ]
  },
  {
   "cell_type": "code",
   "execution_count": 7,
   "id": "5eba982d",
   "metadata": {},
   "outputs": [
    {
     "name": "stdout",
     "output_type": "stream",
     "text": [
      "25\n"
     ]
    }
   ],
   "source": [
    "#7. The correct way to represent variable age to with 25 is\n",
    "Age = 25\n",
    "\n",
    "print(Age)"
   ]
  },
  {
   "cell_type": "code",
   "execution_count": 8,
   "id": "1297918b",
   "metadata": {},
   "outputs": [
    {
     "name": "stdout",
     "output_type": "stream",
     "text": [
      "data type of price variable is: <class 'float'>\n"
     ]
    }
   ],
   "source": [
    "#8\n",
    "price = 9.99\n",
    "\n",
    "print(f\"data type of price variable is: {type(price)}\")"
   ]
  },
  {
   "cell_type": "code",
   "execution_count": 9,
   "id": "9c0f57cb",
   "metadata": {},
   "outputs": [
    {
     "name": "stdout",
     "output_type": "stream",
     "text": [
      "Sumit Kumar Roy\n"
     ]
    }
   ],
   "source": [
    "#9 \n",
    "name = \"Sumit Kumar Roy\"\n",
    "\n",
    "print(name)"
   ]
  },
  {
   "cell_type": "code",
   "execution_count": 10,
   "id": "13b1aeda",
   "metadata": {},
   "outputs": [
    {
     "name": "stdout",
     "output_type": "stream",
     "text": [
      "World\n"
     ]
    }
   ],
   "source": [
    "#10\n",
    "pr =  \"Hello, World!\"\n",
    "\n",
    "for i in range(len(pr)):\n",
    "    if pr[i:i+5]==\"World\":\n",
    "        print(pr[i:i+5])\n",
    "    "
   ]
  },
  {
   "cell_type": "code",
   "execution_count": 11,
   "id": "f98c302a",
   "metadata": {},
   "outputs": [
    {
     "name": "stdout",
     "output_type": "stream",
     "text": [
      "is_student:  True\n"
     ]
    }
   ],
   "source": [
    "#11\n",
    "is_student = True\n",
    "print(f\"is_student: \", is_student)"
   ]
  },
  {
   "cell_type": "code",
   "execution_count": null,
   "id": "f41959fe",
   "metadata": {},
   "outputs": [],
   "source": []
  }
 ],
 "metadata": {
  "kernelspec": {
   "display_name": "Python 3 (ipykernel)",
   "language": "python",
   "name": "python3"
  },
  "language_info": {
   "codemirror_mode": {
    "name": "ipython",
    "version": 3
   },
   "file_extension": ".py",
   "mimetype": "text/x-python",
   "name": "python",
   "nbconvert_exporter": "python",
   "pygments_lexer": "ipython3",
   "version": "3.11.4"
  }
 },
 "nbformat": 4,
 "nbformat_minor": 5
}
